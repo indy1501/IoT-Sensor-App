{
  "nbformat": 4,
  "nbformat_minor": 0,
  "metadata": {
    "colab": {
      "name": "IoT Sensor Project.ipynb",
      "provenance": [],
      "collapsed_sections": [
        "Ql-tkrXoHbAb",
        "p1cM6ML0naRG",
        "9Vmk0d1ma7pi",
        "VEIZ3pgypBWD"
      ],
      "toc_visible": true,
      "include_colab_link": true
    },
    "kernelspec": {
      "name": "python3",
      "display_name": "Python 3"
    }
  },
  "cells": [
    {
      "cell_type": "markdown",
      "metadata": {
        "id": "view-in-github",
        "colab_type": "text"
      },
      "source": [
        "<a href=\"https://colab.research.google.com/github/indy1501/IoT-Sensor-App/blob/main/IoT_Sensor_Project.ipynb\" target=\"_parent\"><img src=\"https://colab.research.google.com/assets/colab-badge.svg\" alt=\"Open In Colab\"/></a>"
      ]
    },
    {
      "cell_type": "markdown",
      "metadata": {
        "id": "vrKNQMeeG1RQ"
      },
      "source": [
        "#Indrayani Bhalerao - IoT Project\n"
      ]
    },
    {
      "cell_type": "markdown",
      "metadata": {
        "id": "Ql-tkrXoHbAb"
      },
      "source": [
        "#Install Libraries"
      ]
    },
    {
      "cell_type": "code",
      "metadata": {
        "id": "8fFL43MdLtGX"
      },
      "source": [
        "!pip install google-cloud-iot"
      ],
      "execution_count": null,
      "outputs": []
    },
    {
      "cell_type": "code",
      "metadata": {
        "id": "8-aLBvOAan_g"
      },
      "source": [
        "!pip install google-api-python-client"
      ],
      "execution_count": null,
      "outputs": []
    },
    {
      "cell_type": "code",
      "metadata": {
        "id": "BmryKIkjnQ_y"
      },
      "source": [
        "!pip install google-cloud-storage"
      ],
      "execution_count": null,
      "outputs": []
    },
    {
      "cell_type": "code",
      "metadata": {
        "id": "b9pAWRSsbynN"
      },
      "source": [
        "!pip install cryptography pyjwt paho-mqtt "
      ],
      "execution_count": null,
      "outputs": []
    },
    {
      "cell_type": "code",
      "metadata": {
        "id": "g7Vns7V0cC9N"
      },
      "source": [
        "import paho.mqtt.client as mqtt\n",
        "import jwt\n",
        "import time\n",
        "import ssl\n",
        "import random\n",
        "import os\n",
        "import logging\n",
        "import datetime\n",
        "import argparse"
      ],
      "execution_count": null,
      "outputs": []
    },
    {
      "cell_type": "markdown",
      "metadata": {
        "id": "p1cM6ML0naRG"
      },
      "source": [
        "# Setup Google Cloud Client"
      ]
    },
    {
      "cell_type": "code",
      "metadata": {
        "id": "nivGmp_geTdJ"
      },
      "source": [
        "from google.colab import auth\n",
        "auth.authenticate_user()"
      ],
      "execution_count": null,
      "outputs": []
    },
    {
      "cell_type": "code",
      "metadata": {
        "id": "VCRLVnTseYhx",
        "colab": {
          "base_uri": "https://localhost:8080/",
          "height": 153
        },
        "outputId": "f5660ce4-625e-431f-8a3a-cfb7010b3e27"
      },
      "source": [
        "!gcloud config list"
      ],
      "execution_count": null,
      "outputs": [
        {
          "output_type": "stream",
          "text": [
            "[component_manager]\n",
            "disable_update_check = True\n",
            "[compute]\n",
            "gce_metadata_read_timeout_sec = 0\n",
            "[core]\n",
            "account = indrayani.bhalerao@sjsu.edu\n",
            "\n",
            "Your active configuration is: [default]\n"
          ],
          "name": "stdout"
        }
      ]
    },
    {
      "cell_type": "code",
      "metadata": {
        "id": "FY8uiFUOeyL2",
        "colab": {
          "base_uri": "https://localhost:8080/",
          "height": 34
        },
        "outputId": "f583b1d6-b8ef-4839-e5dc-b27cdb479dee"
      },
      "source": [
        "!gcloud config set compute/region us-central1"
      ],
      "execution_count": null,
      "outputs": [
        {
          "output_type": "stream",
          "text": [
            "Updated property [compute/region].\n"
          ],
          "name": "stdout"
        }
      ]
    },
    {
      "cell_type": "code",
      "metadata": {
        "id": "Bb1T7BlDe4dC",
        "colab": {
          "base_uri": "https://localhost:8080/",
          "height": 34
        },
        "outputId": "0ad22e4a-6796-4982-d38f-370a19623650"
      },
      "source": [
        "!gcloud config set compute/zone us-central1a"
      ],
      "execution_count": null,
      "outputs": [
        {
          "output_type": "stream",
          "text": [
            "Updated property [compute/zone].\n"
          ],
          "name": "stdout"
        }
      ]
    },
    {
      "cell_type": "code",
      "metadata": {
        "id": "yDPhneOvfCQv",
        "colab": {
          "base_uri": "https://localhost:8080/",
          "height": 85
        },
        "outputId": "98a566d3-948a-4223-d440-87d3f32e41d7"
      },
      "source": [
        "!gcloud config list project"
      ],
      "execution_count": null,
      "outputs": [
        {
          "output_type": "stream",
          "text": [
            "[core]\n",
            "project (unset)\n",
            "\n",
            "Your active configuration is: [default]\n"
          ],
          "name": "stdout"
        }
      ]
    },
    {
      "cell_type": "code",
      "metadata": {
        "id": "aqI7jnrze9Nj",
        "colab": {
          "base_uri": "https://localhost:8080/",
          "height": 34
        },
        "outputId": "3b5c80b7-bc6d-494a-c829-c38a3ce6186c"
      },
      "source": [
        "!gcloud config set project 'iotproject0923'"
      ],
      "execution_count": null,
      "outputs": [
        {
          "output_type": "stream",
          "text": [
            "Updated property [core/project].\n"
          ],
          "name": "stdout"
        }
      ]
    },
    {
      "cell_type": "code",
      "metadata": {
        "id": "2mSK8qxV3r3s",
        "colab": {
          "base_uri": "https://localhost:8080/",
          "height": 85
        },
        "outputId": "59522015-4370-4b52-fead-ff593d063bc5"
      },
      "source": [
        "!gcloud config list project"
      ],
      "execution_count": null,
      "outputs": [
        {
          "output_type": "stream",
          "text": [
            "[core]\n",
            "project = iotproject0923\n",
            "\n",
            "Your active configuration is: [default]\n"
          ],
          "name": "stdout"
        }
      ]
    },
    {
      "cell_type": "markdown",
      "metadata": {
        "id": "9Vmk0d1ma7pi"
      },
      "source": [
        "# Mount Google Drive"
      ]
    },
    {
      "cell_type": "code",
      "metadata": {
        "id": "JCtCfdQTa-L5",
        "colab": {
          "base_uri": "https://localhost:8080/"
        },
        "outputId": "0f80909b-6bc2-4b94-9cf5-2bbdce6ff948"
      },
      "source": [
        "from google.colab import drive\n",
        "import os\n",
        "drive.mount('/content/gdrive')"
      ],
      "execution_count": null,
      "outputs": [
        {
          "output_type": "stream",
          "text": [
            "Drive already mounted at /content/gdrive; to attempt to forcibly remount, call drive.mount(\"/content/gdrive\", force_remount=True).\n"
          ],
          "name": "stdout"
        }
      ]
    },
    {
      "cell_type": "markdown",
      "metadata": {
        "id": "NlTyhuIjv8tb"
      },
      "source": [
        "Create a service credentials, ref: https://cloud.google.com/storage/docs/reference/libraries#client-libraries-usage-nodejs"
      ]
    },
    {
      "cell_type": "code",
      "metadata": {
        "id": "k8zX4GU1rjvG"
      },
      "source": [
        "myservicecredentials='/content/gdrive/\"My Drive\"/\"Colab Notebooks\"/\"CMPE297\"/\"google certs\"'"
      ],
      "execution_count": null,
      "outputs": []
    },
    {
      "cell_type": "code",
      "metadata": {
        "id": "vyCjrVu6pqon",
        "colab": {
          "base_uri": "https://localhost:8080/"
        },
        "outputId": "64d1f491-a1ed-47d4-ada6-68c6627618f4"
      },
      "source": [
        "!ls {myservicecredentials}"
      ],
      "execution_count": null,
      "outputs": [
        {
          "output_type": "stream",
          "text": [
            "device_keys  iotproject0923-1060d6f1cccb.json  roots.pem\n"
          ],
          "name": "stdout"
        }
      ]
    },
    {
      "cell_type": "code",
      "metadata": {
        "id": "XyvHZIsD-FhI",
        "colab": {
          "base_uri": "https://localhost:8080/"
        },
        "outputId": "f52adb89-07b4-482f-97a6-c53c48565fb6"
      },
      "source": [
        "newdevicecredentials_path=os.path.join(myservicecredentials, 'device_keys')\n",
        "!ls {newdevicecredentials_path}"
      ],
      "execution_count": null,
      "outputs": [
        {
          "output_type": "stream",
          "text": [
            "rsa_cert.pem  rsa_private.pem\n"
          ],
          "name": "stdout"
        }
      ]
    },
    {
      "cell_type": "code",
      "metadata": {
        "id": "m1l_-AdIp0tO"
      },
      "source": [
        "myservicecredentials_path=os.path.join(myservicecredentials, 'iotproject0923-1060d6f1cccb.json')"
      ],
      "execution_count": null,
      "outputs": []
    },
    {
      "cell_type": "code",
      "metadata": {
        "id": "rcLXy7Vrqws1"
      },
      "source": [
        "!cp {myservicecredentials_path} . #copy to the local directory"
      ],
      "execution_count": null,
      "outputs": []
    },
    {
      "cell_type": "code",
      "metadata": {
        "id": "W5kTtO0y-Tgo"
      },
      "source": [
        "!cp -r {newdevicecredentials_path} ."
      ],
      "execution_count": null,
      "outputs": []
    },
    {
      "cell_type": "code",
      "metadata": {
        "id": "iHT-CbooH6VE"
      },
      "source": [
        "rootcredentials_path=os.path.join(myservicecredentials, 'roots.pem')\n",
        "!cp {rootcredentials_path} ."
      ],
      "execution_count": null,
      "outputs": []
    },
    {
      "cell_type": "code",
      "metadata": {
        "id": "FEjMsCPS-X-B",
        "colab": {
          "base_uri": "https://localhost:8080/"
        },
        "outputId": "c9f4faa2-4678-49a1-becb-b105b283fc8d"
      },
      "source": [
        "!ls"
      ],
      "execution_count": null,
      "outputs": [
        {
          "output_type": "stream",
          "text": [
            "adc.json     gdrive\t\t\t       roots.pem\n",
            "device_keys  iotproject0923-1060d6f1cccb.json  sample_data\n"
          ],
          "name": "stdout"
        }
      ]
    },
    {
      "cell_type": "code",
      "metadata": {
        "id": "d4XVMOm0qNRp"
      },
      "source": [
        "GOOGLE_APPLICATION_CREDENTIALS='./iotproject0923-1060d6f1cccb.json'"
      ],
      "execution_count": null,
      "outputs": []
    },
    {
      "cell_type": "code",
      "metadata": {
        "id": "U-eJTWydqPjk",
        "colab": {
          "base_uri": "https://localhost:8080/"
        },
        "outputId": "8c0a9e67-d3b5-41ad-c930-d832223d0ba1"
      },
      "source": [
        "!echo $GOOGLE_APPLICATION_CREDENTIALS"
      ],
      "execution_count": null,
      "outputs": [
        {
          "output_type": "stream",
          "text": [
            "./iotproject0923-1060d6f1cccb.json\n"
          ],
          "name": "stdout"
        }
      ]
    },
    {
      "cell_type": "markdown",
      "metadata": {
        "id": "VEIZ3pgypBWD"
      },
      "source": [
        "# Google Cloud Storage Gsutil"
      ]
    },
    {
      "cell_type": "code",
      "metadata": {
        "id": "MbzEzLW9nqxL"
      },
      "source": [
        "from google.cloud import storage"
      ],
      "execution_count": null,
      "outputs": []
    },
    {
      "cell_type": "code",
      "metadata": {
        "id": "IzR0W4WRpZ7B"
      },
      "source": [
        "# Instantiates a client\n",
        "storage_client = storage.Client.from_service_account_json('./iotproject0923-1060d6f1cccb.json')\n",
        "#storage_client = storage.Client()"
      ],
      "execution_count": null,
      "outputs": []
    },
    {
      "cell_type": "code",
      "metadata": {
        "id": "0OV8NRO6G_Oh",
        "colab": {
          "base_uri": "https://localhost:8080/"
        },
        "outputId": "916fdf84-7cf5-4dcb-e487-a7707542d340"
      },
      "source": [
        "!gsutil ls #list google cloud storage bucket"
      ],
      "execution_count": null,
      "outputs": [
        {
          "output_type": "stream",
          "text": [
            "gs://gcf-sources-489882879156-us-central1/\n",
            "gs://iotproject0923.appspot.com/\n",
            "gs://staging.iotproject0923.appspot.com/\n",
            "gs://us.artifacts.iotproject0923.appspot.com/\n"
          ],
          "name": "stdout"
        }
      ]
    },
    {
      "cell_type": "markdown",
      "metadata": {
        "id": "QQqGaEldcJFS"
      },
      "source": [
        "# Google IoT Defined functions"
      ]
    },
    {
      "cell_type": "code",
      "metadata": {
        "id": "NifkYik2cNxc"
      },
      "source": [
        "import paho.mqtt.client as mqtt\n",
        "import jwt\n",
        "import time\n",
        "import ssl\n",
        "import random\n",
        "import os\n",
        "import logging\n",
        "import datetime\n",
        "import argparse\n",
        "\n",
        "from google.cloud import storage"
      ],
      "execution_count": null,
      "outputs": []
    },
    {
      "cell_type": "code",
      "metadata": {
        "id": "afpn5sqY5YWR"
      },
      "source": [
        "# The initial backoff time after a disconnection occurs, in seconds.\n",
        "minimum_backoff_time = 1\n",
        "\n",
        "# The maximum backoff time before giving up, in seconds.\n",
        "MAXIMUM_BACKOFF_TIME = 32\n",
        "\n",
        "# Whether to wait with exponential backoff before publishing.\n",
        "should_backoff = False\n",
        "\n",
        "def create_jwt(project_id, private_key_file, algorithm):\n",
        "    \"\"\"Creates a JWT (https://jwt.io) to establish an MQTT connection.\n",
        "        Args:\n",
        "         project_id: The cloud project ID this device belongs to\n",
        "         private_key_file: A path to a file containing either an RSA256 or\n",
        "                 ES256 private key.\n",
        "         algorithm: The encryption algorithm to use. Either 'RS256' or 'ES256'\n",
        "        Returns:\n",
        "            A JWT generated from the given project_id and private key, which\n",
        "            expires in 20 minutes. After 20 minutes, your client will be\n",
        "            disconnected, and a new JWT will have to be generated.\n",
        "        Raises:\n",
        "            ValueError: If the private_key_file does not contain a known key.\n",
        "        \"\"\"\n",
        "\n",
        "    token = {\n",
        "        # The time that the token was issued at\n",
        "        'iat': datetime.datetime.utcnow(),\n",
        "        # The time the token expires.\n",
        "        'exp': datetime.datetime.utcnow() + datetime.timedelta(minutes=20),\n",
        "        # The audience field should always be set to the GCP project id.\n",
        "        'aud': project_id\n",
        "    }\n",
        "\n",
        "    # Read the private key file.\n",
        "    with open(private_key_file, 'r') as f:\n",
        "        private_key = f.read()\n",
        "\n",
        "    print('Creating JWT using {} from private key file {}'.format(\n",
        "        algorithm, private_key_file))\n",
        "\n",
        "    return jwt.encode(token, private_key, algorithm=algorithm)\n",
        "# [END iot_mqtt_jwt]"
      ],
      "execution_count": null,
      "outputs": []
    },
    {
      "cell_type": "code",
      "metadata": {
        "id": "c7CVNFJA5d22"
      },
      "source": [
        "def error_str(rc):\n",
        "    \"\"\"Convert a Paho error to a human readable string.\"\"\"\n",
        "    return '{}: {}'.format(rc, mqtt.error_string(rc))\n",
        "\n",
        "\n",
        "def on_connect(unused_client, unused_userdata, unused_flags, rc):\n",
        "    \"\"\"Callback for when a device connects.\"\"\"\n",
        "    print('on_connect', mqtt.connack_string(rc))\n",
        "\n",
        "    # After a successful connect, reset backoff time and stop backing off.\n",
        "    global should_backoff\n",
        "    global minimum_backoff_time\n",
        "    should_backoff = False\n",
        "    minimum_backoff_time = 1\n",
        "\n",
        "\n",
        "def on_disconnect(unused_client, unused_userdata, rc):\n",
        "    \"\"\"Paho callback for when a device disconnects.\"\"\"\n",
        "    print('on_disconnect', error_str(rc))\n",
        "\n",
        "    # Since a disconnect occurred, the next loop iteration will wait with\n",
        "    # exponential backoff.\n",
        "    global should_backoff\n",
        "    should_backoff = True\n",
        "\n",
        "\n",
        "def on_publish(unused_client, unused_userdata, unused_mid):\n",
        "    \"\"\"Paho callback when a message is sent to the broker.\"\"\"\n",
        "    print('on_publish')\n",
        "\n",
        "\n",
        "def on_message(unused_client, unused_userdata, message):\n",
        "    \"\"\"Callback when the device receives a message on a subscription.\"\"\"\n",
        "    payload = str(message.payload.decode('utf-8'))\n",
        "    print('Received message \\'{}\\' on topic \\'{}\\' with Qos {}'.format(\n",
        "        payload, message.topic, str(message.qos)))"
      ],
      "execution_count": null,
      "outputs": []
    },
    {
      "cell_type": "code",
      "metadata": {
        "id": "vFONbm3D5qjm"
      },
      "source": [
        "def get_client(\n",
        "        project_id, cloud_region, registry_id, device_id, private_key_file,\n",
        "        algorithm, ca_certs, mqtt_bridge_hostname, mqtt_bridge_port):\n",
        "    \"\"\"Create our MQTT client. The client_id is a unique string that identifies\n",
        "    this device. For Google Cloud IoT Core, it must be in the format below.\"\"\"\n",
        "    client_id = 'projects/{}/locations/{}/registries/{}/devices/{}'.format(\n",
        "        project_id, cloud_region, registry_id, device_id)\n",
        "    print('Device client_id is \\'{}\\''.format(client_id))\n",
        "\n",
        "    client = mqtt.Client(client_id=client_id)\n",
        "\n",
        "    # With Google Cloud IoT Core, the username field is ignored, and the\n",
        "    # password field is used to transmit a JWT to authorize the device.\n",
        "    client.username_pw_set(\n",
        "        username='unused',\n",
        "        password=create_jwt(\n",
        "            project_id, private_key_file, algorithm))\n",
        "\n",
        "    # Enable SSL/TLS support.\n",
        "    client.tls_set(ca_certs=ca_certs, tls_version=ssl.PROTOCOL_TLSv1_2)\n",
        "\n",
        "    # Register message callbacks. https://eclipse.org/paho/clients/python/docs/\n",
        "    # describes additional callbacks that Paho supports. In this example, the\n",
        "    # callbacks just print to standard out.\n",
        "    client.on_connect = on_connect\n",
        "    client.on_publish = on_publish\n",
        "    client.on_disconnect = on_disconnect\n",
        "    client.on_message = on_message\n",
        "\n",
        "    # Connect to the Google MQTT bridge.\n",
        "    client.connect(mqtt_bridge_hostname, mqtt_bridge_port)\n",
        "\n",
        "    # This is the topic that the device will receive configuration updates on.\n",
        "    mqtt_config_topic = '/devices/{}/config'.format(device_id)\n",
        "\n",
        "    # Subscribe to the config topic.\n",
        "    client.subscribe(mqtt_config_topic, qos=1)\n",
        "\n",
        "    # The topic that the device will receive commands on.\n",
        "    mqtt_command_topic = '/devices/{}/commands/#'.format(device_id)\n",
        "\n",
        "    # Subscribe to the commands topic, QoS 1 enables message acknowledgement.\n",
        "    print('Subscribing to {}'.format(mqtt_command_topic))\n",
        "    client.subscribe(mqtt_command_topic, qos=0)\n",
        "\n",
        "    return client\n",
        "# [END iot_mqtt_config]"
      ],
      "execution_count": null,
      "outputs": []
    },
    {
      "cell_type": "code",
      "metadata": {
        "id": "_pl0zLTUIFfI",
        "colab": {
          "base_uri": "https://localhost:8080/",
          "height": 51
        },
        "outputId": "8d6f10f6-5376-40e3-9a94-521b2629b1c3"
      },
      "source": [
        "!ls"
      ],
      "execution_count": null,
      "outputs": [
        {
          "output_type": "stream",
          "text": [
            "adc.json     gdrive\t\t\t       roots.pem\n",
            "device_keys  iotproject0923-1060d6f1cccb.json  sample_data\n"
          ],
          "name": "stdout"
        }
      ]
    },
    {
      "cell_type": "code",
      "metadata": {
        "id": "WHqWQnRTIEq1"
      },
      "source": [
        "GOOGLE_APPLICATION_CREDENTIALS='./iotproject0923-1060d6f1cccb.json'\n",
        "ROOT_CREDENTIALS='./roots.pem'"
      ],
      "execution_count": null,
      "outputs": []
    },
    {
      "cell_type": "code",
      "metadata": {
        "id": "5W_KynqJ6ge2"
      },
      "source": [
        "class Args:\n",
        "  algorithm = 'RS256'\n",
        "  ca_certs = '/content/roots.pem'\n",
        "  cloud_region = 'us-central1'\n",
        "  data = 'Hello there Indrayani!'\n",
        "  device_id = 'indrayani-iot-device'\n",
        "  jwt_expires_minutes = 20\n",
        "  listen_dur = 60\n",
        "  message_type = 'event'\n",
        "  mqtt_bridge_hostname = 'mqtt.googleapis.com'\n",
        "  mqtt_bridge_port = 8883\n",
        "  num_messages = 10\n",
        "  private_key_file = '/content/device_keys/rsa_private.pem'\n",
        "  project_id = 'iotproject0923'\n",
        "  registry_id = 'Indrayani-IoT-Registry'\n",
        "  service_account_json = '/content/iotproject0923-1060d6f1cccb.json'\n",
        "\n",
        "\n",
        "args=Args()"
      ],
      "execution_count": null,
      "outputs": []
    },
    {
      "cell_type": "code",
      "metadata": {
        "id": "PFseNuwC8jPx",
        "colab": {
          "base_uri": "https://localhost:8080/",
          "height": 34
        },
        "outputId": "03c8cf35-f7a4-488d-d639-dab2764988a6"
      },
      "source": [
        "print(args.private_key_file)"
      ],
      "execution_count": null,
      "outputs": [
        {
          "output_type": "stream",
          "text": [
            "/content/device_keys/rsa_private.pem\n"
          ],
          "name": "stdout"
        }
      ]
    },
    {
      "cell_type": "code",
      "metadata": {
        "id": "sy2qfZSa5r6h"
      },
      "source": [
        "\n",
        "def parse_command_line_args():\n",
        "    \"\"\"Parse command line arguments.\"\"\"\n",
        "    parser = argparse.ArgumentParser(description=(\n",
        "        'Example Google Cloud IoT Core MQTT device connection code.'))\n",
        "    parser.add_argument(\n",
        "        '--algorithm',\n",
        "        choices=('RS256', 'ES256'),\n",
        "        required=True,\n",
        "        help='Which encryption algorithm to use to generate the JWT.')\n",
        "    parser.add_argument(\n",
        "        '--ca_certs',\n",
        "        default='./roots.pem',\n",
        "        help='CA root from https://pki.google.com/roots.pem')\n",
        "    parser.add_argument(\n",
        "        '--cloud_region', default='us-central1', help='GCP cloud region')\n",
        "    parser.add_argument(\n",
        "        '--data',\n",
        "        default='Hello there',\n",
        "        help='The telemetry data sent on behalf of a device')\n",
        "    parser.add_argument(\n",
        "        '--device_id', required=True, help='Cloud IoT Core device id')\n",
        "    parser.add_argument(\n",
        "        '--gateway_id', required=False, help='Gateway identifier.')\n",
        "    parser.add_argument(\n",
        "        '--jwt_expires_minutes',\n",
        "        default=20,\n",
        "        type=int,\n",
        "        help='Expiration time, in minutes, for JWT tokens.')\n",
        "    parser.add_argument(\n",
        "        '--listen_dur',\n",
        "        default=60,\n",
        "        type=int,\n",
        "        help='Duration (seconds) to listen for configuration messages')\n",
        "    parser.add_argument(\n",
        "        '--message_type',\n",
        "        choices=('event', 'state'),\n",
        "        default='event',\n",
        "        help=('Indicates whether the message to be published is a '\n",
        "              'telemetry event or a device state message.'))\n",
        "    parser.add_argument(\n",
        "        '--mqtt_bridge_hostname',\n",
        "        default='mqtt.googleapis.com',\n",
        "        help='MQTT bridge hostname.')\n",
        "    parser.add_argument(\n",
        "        '--mqtt_bridge_port',\n",
        "        choices=(8883, 443),\n",
        "        default=8883,\n",
        "        type=int,\n",
        "        help='MQTT bridge port.')\n",
        "    parser.add_argument(\n",
        "        '--num_messages',\n",
        "        type=int,\n",
        "        default=100,\n",
        "        help='Number of messages to publish.')\n",
        "    parser.add_argument(\n",
        "        '--private_key_file',\n",
        "        required=True,\n",
        "        help='Path to private key file.')\n",
        "    parser.add_argument(\n",
        "        '--project_id',\n",
        "        default=os.environ.get('GOOGLE_CLOUD_PROJECT'),\n",
        "        help='GCP cloud project name')\n",
        "    parser.add_argument(\n",
        "        '--registry_id', required=True, help='Cloud IoT Core registry id')\n",
        "    parser.add_argument(\n",
        "        '--service_account_json',\n",
        "        default=os.environ.get(\"GOOGLE_APPLICATION_CREDENTIALS\"),\n",
        "        help='Path to service account json file.')\n",
        "\n",
        "    return parser.parse_args()\n",
        "\n",
        "\n",
        "def mqtt_device_demo(args):\n",
        "    \"\"\"Connects a device, sends data, and receives data.\"\"\"\n",
        "    # [START iot_mqtt_run]\n",
        "    global minimum_backoff_time\n",
        "    global MAXIMUM_BACKOFF_TIME\n",
        "\n",
        "    # Publish to the events or state topic based on the flag.\n",
        "    sub_topic = 'events' if args.message_type == 'event' else 'state'\n",
        "\n",
        "    mqtt_topic = '/devices/{}/{}'.format(args.device_id, sub_topic)\n",
        "\n",
        "    jwt_iat = datetime.datetime.utcnow()\n",
        "    jwt_exp_mins = args.jwt_expires_minutes\n",
        "    client = get_client(\n",
        "        args.project_id, args.cloud_region, args.registry_id,\n",
        "        args.device_id, args.private_key_file, args.algorithm,\n",
        "        args.ca_certs, args.mqtt_bridge_hostname, args.mqtt_bridge_port)\n",
        "\n",
        "    # Publish num_messages messages to the MQTT bridge once per second.\n",
        "    for i in range(1, args.num_messages + 1):\n",
        "        # Process network events.\n",
        "        client.loop()\n",
        "\n",
        "        # Wait if backoff is required.\n",
        "        if should_backoff:\n",
        "            # If backoff time is too large, give up.\n",
        "            if minimum_backoff_time > MAXIMUM_BACKOFF_TIME:\n",
        "                print('Exceeded maximum backoff time. Giving up.')\n",
        "                break\n",
        "\n",
        "            # Otherwise, wait and connect again.\n",
        "            delay = minimum_backoff_time + random.randint(0, 1000) / 1000.0\n",
        "            print('Waiting for {} before reconnecting.'.format(delay))\n",
        "            time.sleep(delay)\n",
        "            minimum_backoff_time *= 2\n",
        "            client.connect(args.mqtt_bridge_hostname, args.mqtt_bridge_port)\n",
        "\n",
        "        payload = '{}/{}-payload-{}'.format(\n",
        "            args.registry_id, args.device_id, i)\n",
        "        print('Publishing message {}/{}: \\'{}\\''.format(\n",
        "            i, args.num_messages, payload))\n",
        "        # [START iot_mqtt_jwt_refresh]\n",
        "        seconds_since_issue = (datetime.datetime.utcnow() - jwt_iat).seconds\n",
        "        if seconds_since_issue > 360 * jwt_exp_mins:\n",
        "            print('Refreshing token after {}s'.format(seconds_since_issue))\n",
        "            jwt_iat = datetime.datetime.utcnow()\n",
        "            client.loop()\n",
        "            client.disconnect()\n",
        "            client = get_client(\n",
        "                args.project_id, args.cloud_region,\n",
        "                args.registry_id, args.device_id, args.private_key_file,\n",
        "                args.algorithm, args.ca_certs, args.mqtt_bridge_hostname,\n",
        "                args.mqtt_bridge_port)\n",
        "        # [END iot_mqtt_jwt_refresh]\n",
        "        # Publish \"payload\" to the MQTT topic. qos=1 means at least once\n",
        "        # delivery. Cloud IoT Core also supports qos=0 for at most once\n",
        "        # delivery.\n",
        "        client.publish(mqtt_topic, payload, qos=1)\n",
        "\n",
        "        \n",
        "        # Send events every second. State should not be updated as often\n",
        "        time.sleep(1)\n",
        "        # for i in range(0, 60):\n",
        "        #     time.sleep(1)\n",
        "        #     client.loop()\n",
        "    # [END iot_mqtt_run]"
      ],
      "execution_count": null,
      "outputs": []
    },
    {
      "cell_type": "code",
      "metadata": {
        "id": "HDef_4FBHL9v"
      },
      "source": [
        "import random\n",
        "import time\n",
        "import datetime\n",
        "import json\n",
        "\n",
        "def read_sensor(count):\n",
        "    tempF = 20 + 0.2*count + (random.random() * 15)\n",
        "    humidity = 60 + 0.3*count+ (random.random() * 20)\n",
        "    temp = '{0:0.2f}'.format(tempF)\n",
        "    hum = '{0:0.2f}'.format(humidity)\n",
        "    sensorZipCode = 95192#\"94043\"\n",
        "    sensorLat = 37.3382082+ (random.random() /100)#\"37.421655\"\n",
        "    sensorLong = -121.8863286 + (random.random() /100)#\"-122.085637\"\n",
        "    sensorLatf = '{0:0.6f}'.format(sensorLat)\n",
        "    sensorLongf = '{0:0.6f}'.format(sensorLong)\n",
        "    return (temp, hum, sensorZipCode, sensorLatf, sensorLongf)\n",
        "\n",
        "def createJSON(reg_id, dev_id, timestamp, zip, lat, long, temperature, humidity):\n",
        "    data = {\n",
        "      'registry_id' : reg_id,\n",
        "      'device_id' : dev_id,\n",
        "      'timecollected' : timestamp,\n",
        "      'zipcode' : zip,\n",
        "      'latitude' : lat,\n",
        "      'longitude' : long,\n",
        "      'temperature' : temperature,\n",
        "      'humidity' : humidity,\n",
        "    }\n",
        "\n",
        "    json_str = json.dumps(data)\n",
        "    return json_str\n",
        "\n",
        "def storage_mqtt_device_demo(args):\n",
        "\n",
        "    \"\"\"Connects a device, sends data, and receives data.\"\"\"\n",
        "    # [START iot_mqtt_run]\n",
        "    global minimum_backoff_time\n",
        "    global MAXIMUM_BACKOFF_TIME\n",
        "\n",
        "    # Publish to the events or state topic based on the flag.\n",
        "    sub_topic = 'events' if args.message_type == 'event' else 'state'\n",
        "\n",
        "    mqtt_topic = '/devices/{}/{}'.format(args.device_id, sub_topic)\n",
        "\n",
        "    jwt_iat = datetime.datetime.utcnow()\n",
        "    jwt_exp_mins = args.jwt_expires_minutes\n",
        "    client = get_client(\n",
        "        args.project_id, args.cloud_region, args.registry_id,\n",
        "        args.device_id, args.private_key_file, args.algorithm,\n",
        "        args.ca_certs, args.mqtt_bridge_hostname, args.mqtt_bridge_port)\n",
        "\n",
        "    for n in range(20):\n",
        "      # Process network events.\n",
        "      client.loop()\n",
        "\n",
        "      currentTime = datetime.datetime.utcnow().strftime('%Y-%m-%d %H:%M:%S')\n",
        "      (temp, hum, sensorZipCode, sensorLat, sensorLong) = read_sensor(n)\n",
        "      #(id, timestamp, zip, lat, long, temperature, humidity, img_file)\n",
        "      payloadJSON = createJSON(args.registry_id, args.device_id, currentTime, sensorZipCode, sensorLat, sensorLong, temp, hum)\n",
        "\n",
        "      #payload = '{}/{}-image-{}'.format(args.registry_id, args.device_id, i)\n",
        "      print('Publishing message {}/: \\'{}\\''.format(\n",
        "        n, payloadJSON))\n",
        "\n",
        "      # Publish \"payload\" to the MQTT topic. qos=1 means at least once\n",
        "      # delivery. Cloud IoT Core also supports qos=0 for at most once\n",
        "      # delivery.\n",
        "      client.publish(mqtt_topic, payloadJSON, qos=1)\n",
        "\n",
        "      # Send events every second. State should not be updated as often\n",
        "      time.sleep(1)\n",
        "    \n",
        "def get_messages_from_app(args):\n",
        "\n",
        "    sub_topic = 'events' if args.message_type == 'event' else 'state'\n",
        "    mqtt_topic = '/devices/{}/{}'.format(args.device_id, sub_topic)\n",
        "\n",
        "    jwt_iat = datetime.datetime.utcnow()\n",
        "    jwt_exp_mins = args.jwt_expires_minutes\n",
        "    client = get_client(\n",
        "        args.project_id, args.cloud_region, args.registry_id,\n",
        "        args.device_id, args.private_key_file, args.algorithm,\n",
        "        args.ca_certs, args.mqtt_bridge_hostname, args.mqtt_bridge_port)\n",
        "    \n",
        "    for m in range(20):\n",
        "      client.loop()\n",
        "      time.sleep(1)\n",
        "\n",
        "      "
      ],
      "execution_count": null,
      "outputs": []
    },
    {
      "cell_type": "code",
      "metadata": {
        "id": "6VDnzfYfJe4U",
        "colab": {
          "base_uri": "https://localhost:8080/",
          "height": 802
        },
        "outputId": "9fa696b7-d3fa-40a5-e55a-b34da15e78ea"
      },
      "source": [
        "storage_mqtt_device_demo(args)"
      ],
      "execution_count": null,
      "outputs": [
        {
          "output_type": "stream",
          "text": [
            "Device client_id is 'projects/iotproject0923/locations/us-central1/registries/Indrayani-IoT-Registry/devices/indrayani-iot-device'\n",
            "Creating JWT using RS256 from private key file /content/device_keys/rsa_private.pem\n",
            "Subscribing to /devices/indrayani-iot-device/commands/#\n",
            "Publishing message 0/: '{\"registry_id\": \"Indrayani-IoT-Registry\", \"device_id\": \"indrayani-iot-device\", \"timecollected\": \"2020-10-10 18:47:16\", \"zipcode\": 95192, \"latitude\": \"37.344079\", \"longitude\": \"-121.876717\", \"temperature\": \"24.51\", \"humidity\": \"75.68\"}'\n",
            "on_connect Connection Accepted.\n",
            "Publishing message 1/: '{\"registry_id\": \"Indrayani-IoT-Registry\", \"device_id\": \"indrayani-iot-device\", \"timecollected\": \"2020-10-10 18:47:17\", \"zipcode\": 95192, \"latitude\": \"37.342621\", \"longitude\": \"-121.880212\", \"temperature\": \"32.99\", \"humidity\": \"65.87\"}'\n",
            "Publishing message 2/: '{\"registry_id\": \"Indrayani-IoT-Registry\", \"device_id\": \"indrayani-iot-device\", \"timecollected\": \"2020-10-10 18:47:18\", \"zipcode\": 95192, \"latitude\": \"37.341322\", \"longitude\": \"-121.877212\", \"temperature\": \"27.00\", \"humidity\": \"80.58\"}'\n",
            "Received message '' on topic '/devices/indrayani-iot-device/config' with Qos 1\n",
            "on_publish\n",
            "on_publish\n",
            "Publishing message 3/: '{\"registry_id\": \"Indrayani-IoT-Registry\", \"device_id\": \"indrayani-iot-device\", \"timecollected\": \"2020-10-10 18:47:19\", \"zipcode\": 95192, \"latitude\": \"37.341173\", \"longitude\": \"-121.886156\", \"temperature\": \"28.85\", \"humidity\": \"64.20\"}'\n",
            "on_publish\n",
            "on_publish\n",
            "Publishing message 4/: '{\"registry_id\": \"Indrayani-IoT-Registry\", \"device_id\": \"indrayani-iot-device\", \"timecollected\": \"2020-10-10 18:47:20\", \"zipcode\": 95192, \"latitude\": \"37.341189\", \"longitude\": \"-121.884836\", \"temperature\": \"22.22\", \"humidity\": \"63.09\"}'\n",
            "on_publish\n",
            "Publishing message 5/: '{\"registry_id\": \"Indrayani-IoT-Registry\", \"device_id\": \"indrayani-iot-device\", \"timecollected\": \"2020-10-10 18:47:21\", \"zipcode\": 95192, \"latitude\": \"37.340344\", \"longitude\": \"-121.881023\", \"temperature\": \"28.92\", \"humidity\": \"73.16\"}'\n",
            "on_publish\n",
            "Publishing message 6/: '{\"registry_id\": \"Indrayani-IoT-Registry\", \"device_id\": \"indrayani-iot-device\", \"timecollected\": \"2020-10-10 18:47:22\", \"zipcode\": 95192, \"latitude\": \"37.346638\", \"longitude\": \"-121.878995\", \"temperature\": \"21.83\", \"humidity\": \"63.54\"}'\n",
            "on_publish\n",
            "Publishing message 7/: '{\"registry_id\": \"Indrayani-IoT-Registry\", \"device_id\": \"indrayani-iot-device\", \"timecollected\": \"2020-10-10 18:47:23\", \"zipcode\": 95192, \"latitude\": \"37.346478\", \"longitude\": \"-121.881935\", \"temperature\": \"22.10\", \"humidity\": \"64.21\"}'\n",
            "on_publish\n",
            "Publishing message 8/: '{\"registry_id\": \"Indrayani-IoT-Registry\", \"device_id\": \"indrayani-iot-device\", \"timecollected\": \"2020-10-10 18:47:24\", \"zipcode\": 95192, \"latitude\": \"37.342369\", \"longitude\": \"-121.879867\", \"temperature\": \"31.75\", \"humidity\": \"74.28\"}'\n",
            "on_publish\n",
            "Publishing message 9/: '{\"registry_id\": \"Indrayani-IoT-Registry\", \"device_id\": \"indrayani-iot-device\", \"timecollected\": \"2020-10-10 18:47:25\", \"zipcode\": 95192, \"latitude\": \"37.339524\", \"longitude\": \"-121.884313\", \"temperature\": \"29.65\", \"humidity\": \"77.37\"}'\n",
            "on_publish\n",
            "Publishing message 10/: '{\"registry_id\": \"Indrayani-IoT-Registry\", \"device_id\": \"indrayani-iot-device\", \"timecollected\": \"2020-10-10 18:47:26\", \"zipcode\": 95192, \"latitude\": \"37.346909\", \"longitude\": \"-121.879685\", \"temperature\": \"26.82\", \"humidity\": \"67.63\"}'\n",
            "on_publish\n",
            "Publishing message 11/: '{\"registry_id\": \"Indrayani-IoT-Registry\", \"device_id\": \"indrayani-iot-device\", \"timecollected\": \"2020-10-10 18:47:27\", \"zipcode\": 95192, \"latitude\": \"37.342064\", \"longitude\": \"-121.879917\", \"temperature\": \"34.05\", \"humidity\": \"74.47\"}'\n",
            "on_publish\n",
            "Publishing message 12/: '{\"registry_id\": \"Indrayani-IoT-Registry\", \"device_id\": \"indrayani-iot-device\", \"timecollected\": \"2020-10-10 18:47:28\", \"zipcode\": 95192, \"latitude\": \"37.343877\", \"longitude\": \"-121.884788\", \"temperature\": \"31.93\", \"humidity\": \"69.96\"}'\n",
            "on_publish\n",
            "Publishing message 13/: '{\"registry_id\": \"Indrayani-IoT-Registry\", \"device_id\": \"indrayani-iot-device\", \"timecollected\": \"2020-10-10 18:47:29\", \"zipcode\": 95192, \"latitude\": \"37.341025\", \"longitude\": \"-121.886221\", \"temperature\": \"25.80\", \"humidity\": \"79.25\"}'\n",
            "on_publish\n",
            "Publishing message 14/: '{\"registry_id\": \"Indrayani-IoT-Registry\", \"device_id\": \"indrayani-iot-device\", \"timecollected\": \"2020-10-10 18:47:30\", \"zipcode\": 95192, \"latitude\": \"37.347860\", \"longitude\": \"-121.876607\", \"temperature\": \"29.44\", \"humidity\": \"70.48\"}'\n",
            "on_publish\n",
            "Publishing message 15/: '{\"registry_id\": \"Indrayani-IoT-Registry\", \"device_id\": \"indrayani-iot-device\", \"timecollected\": \"2020-10-10 18:47:31\", \"zipcode\": 95192, \"latitude\": \"37.343685\", \"longitude\": \"-121.885260\", \"temperature\": \"27.44\", \"humidity\": \"67.49\"}'\n",
            "on_publish\n",
            "Publishing message 16/: '{\"registry_id\": \"Indrayani-IoT-Registry\", \"device_id\": \"indrayani-iot-device\", \"timecollected\": \"2020-10-10 18:47:32\", \"zipcode\": 95192, \"latitude\": \"37.344163\", \"longitude\": \"-121.879233\", \"temperature\": \"28.27\", \"humidity\": \"81.65\"}'\n",
            "Received message 'message received' on topic '/devices/indrayani-iot-device/commands' with Qos 0\n",
            "Publishing message 17/: '{\"registry_id\": \"Indrayani-IoT-Registry\", \"device_id\": \"indrayani-iot-device\", \"timecollected\": \"2020-10-10 18:47:33\", \"zipcode\": 95192, \"latitude\": \"37.342133\", \"longitude\": \"-121.877938\", \"temperature\": \"25.33\", \"humidity\": \"72.58\"}'\n",
            "on_publish\n",
            "on_publish\n",
            "Publishing message 18/: '{\"registry_id\": \"Indrayani-IoT-Registry\", \"device_id\": \"indrayani-iot-device\", \"timecollected\": \"2020-10-10 18:47:34\", \"zipcode\": 95192, \"latitude\": \"37.338816\", \"longitude\": \"-121.881196\", \"temperature\": \"32.95\", \"humidity\": \"69.57\"}'\n",
            "on_publish\n",
            "Publishing message 19/: '{\"registry_id\": \"Indrayani-IoT-Registry\", \"device_id\": \"indrayani-iot-device\", \"timecollected\": \"2020-10-10 18:47:35\", \"zipcode\": 95192, \"latitude\": \"37.342694\", \"longitude\": \"-121.884793\", \"temperature\": \"36.98\", \"humidity\": \"85.04\"}'\n"
          ],
          "name": "stdout"
        }
      ]
    },
    {
      "cell_type": "code",
      "metadata": {
        "id": "_9B_P-bM4T_V",
        "colab": {
          "base_uri": "https://localhost:8080/",
          "height": 51
        },
        "outputId": "168bdc2b-3b58-41aa-b383-16d4b43b5d0f"
      },
      "source": [
        "!gcloud pubsub topics list"
      ],
      "execution_count": null,
      "outputs": [
        {
          "output_type": "stream",
          "text": [
            "---\n",
            "name: projects/iotproject0923/topics/my-device-events\n"
          ],
          "name": "stdout"
        }
      ]
    },
    {
      "cell_type": "code",
      "metadata": {
        "id": "PtWDjJtt4g2G",
        "colab": {
          "base_uri": "https://localhost:8080/",
          "height": 513
        },
        "outputId": "e2fea146-62be-4172-f467-89780dd9024e"
      },
      "source": [
        "!gcloud pubsub subscriptions list"
      ],
      "execution_count": null,
      "outputs": [
        {
          "output_type": "stream",
          "text": [
            "---\n",
            "ackDeadlineSeconds: 600\n",
            "expirationPolicy:\n",
            "  ttl: 2678400s\n",
            "messageRetentionDuration: 604800s\n",
            "name: projects/iotproject0923/subscriptions/my-subscription\n",
            "pushConfig: {}\n",
            "topic: projects/iotproject0923/topics/my-device-events\n",
            "---\n",
            "ackDeadlineSeconds: 600\n",
            "expirationPolicy: {}\n",
            "messageRetentionDuration: 604800s\n",
            "name: projects/iotproject0923/subscriptions/gcf-device-to-firestore-us-central1-my-device-events\n",
            "pushConfig:\n",
            "  attributes:\n",
            "    x-goog-version: v1\n",
            "  pushEndpoint: https://90d91f990f2322786e0393a0068efe32-dot-tc6f016c288e63b95p-tp.appspot.com/_ah/push-handlers/pubsub/projects/iotproject0923/topics/my-device-events?pubsub_trigger=true\n",
            "topic: projects/iotproject0923/topics/my-device-events\n",
            "---\n",
            "ackDeadlineSeconds: 600\n",
            "expirationPolicy: {}\n",
            "messageRetentionDuration: 604800s\n",
            "name: projects/iotproject0923/subscriptions/gcf-function-1-us-central1-my-device-events\n",
            "pushConfig:\n",
            "  attributes:\n",
            "    x-goog-version: v1\n",
            "  pushEndpoint: https://d4d1290519676f29baf13a7bf18a25bf-dot-tc6f016c288e63b95p-tp.appspot.com/_ah/push-handlers/pubsub/projects/iotproject0923/topics/my-device-events?pubsub_trigger=true\n",
            "topic: projects/iotproject0923/topics/my-device-events\n"
          ],
          "name": "stdout"
        }
      ]
    },
    {
      "cell_type": "code",
      "metadata": {
        "id": "hlF71Ghhp9Hv",
        "colab": {
          "base_uri": "https://localhost:8080/",
          "height": 136
        },
        "outputId": "901ec183-c9bf-4cf5-d7a8-fef3ec4b7735"
      },
      "source": [
        "get_messages_from_app(args)"
      ],
      "execution_count": null,
      "outputs": [
        {
          "output_type": "stream",
          "text": [
            "Device client_id is 'projects/iotproject0923/locations/us-central1/registries/Indrayani-IoT-Registry/devices/indrayani-iot-device'\n",
            "Creating JWT using RS256 from private key file /content/device_keys/rsa_private.pem\n",
            "Subscribing to /devices/indrayani-iot-device/commands/#\n",
            "on_connect Connection Accepted.\n",
            "Received message '' on topic '/devices/indrayani-iot-device/config' with Qos 1\n",
            "Received message 'message received from react app' on topic '/devices/indrayani-iot-device/commands' with Qos 0\n",
            "Received message 'message received from react app' on topic '/devices/indrayani-iot-device/commands' with Qos 0\n"
          ],
          "name": "stdout"
        }
      ]
    }
  ]
}